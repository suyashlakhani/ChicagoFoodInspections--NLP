{
 "cells": [
  {
   "cell_type": "markdown",
   "id": "49f899b4",
   "metadata": {},
   "source": [
    "#### **Reading Data**"
   ]
  },
  {
   "cell_type": "code",
   "execution_count": 87,
   "id": "82999fe3",
   "metadata": {},
   "outputs": [],
   "source": [
    "import pandas as pd\n",
    "import numpy as np\n",
    "import matplotlib.pyplot as plt\n",
    "import seaborn as sns\n",
    "import nltk \n",
    "import re"
   ]
  },
  {
   "cell_type": "code",
   "execution_count": 88,
   "id": "165b5312",
   "metadata": {
    "scrolled": true
   },
   "outputs": [
    {
     "data": {
      "text/html": [
       "<div>\n",
       "<style scoped>\n",
       "    .dataframe tbody tr th:only-of-type {\n",
       "        vertical-align: middle;\n",
       "    }\n",
       "\n",
       "    .dataframe tbody tr th {\n",
       "        vertical-align: top;\n",
       "    }\n",
       "\n",
       "    .dataframe thead th {\n",
       "        text-align: right;\n",
       "    }\n",
       "</style>\n",
       "<table border=\"1\" class=\"dataframe\">\n",
       "  <thead>\n",
       "    <tr style=\"text-align: right;\">\n",
       "      <th></th>\n",
       "      <th>Inspection ID</th>\n",
       "      <th>DBA Name</th>\n",
       "      <th>AKA Name</th>\n",
       "      <th>License #</th>\n",
       "      <th>Facility Type</th>\n",
       "      <th>Risk</th>\n",
       "      <th>Address</th>\n",
       "      <th>City</th>\n",
       "      <th>State</th>\n",
       "      <th>Zip</th>\n",
       "      <th>Inspection Date</th>\n",
       "      <th>Inspection Type</th>\n",
       "      <th>Results</th>\n",
       "      <th>Violations</th>\n",
       "      <th>Latitude</th>\n",
       "      <th>Longitude</th>\n",
       "      <th>Location</th>\n",
       "    </tr>\n",
       "  </thead>\n",
       "  <tbody>\n",
       "    <tr>\n",
       "      <th>0</th>\n",
       "      <td>2561123</td>\n",
       "      <td>LOWCOUNTRY</td>\n",
       "      <td>LOWCOUNTRY</td>\n",
       "      <td>1042664.0</td>\n",
       "      <td>Restaurant</td>\n",
       "      <td>Risk 1 (High)</td>\n",
       "      <td>3343 N CLARK ST</td>\n",
       "      <td>CHICAGO</td>\n",
       "      <td>IL</td>\n",
       "      <td>60657.0</td>\n",
       "      <td>07/21/2022</td>\n",
       "      <td>Complaint</td>\n",
       "      <td>No Entry</td>\n",
       "      <td>NaN</td>\n",
       "      <td>41.942869</td>\n",
       "      <td>-87.652863</td>\n",
       "      <td>(41.942869318828365, -87.65286280377227)</td>\n",
       "    </tr>\n",
       "    <tr>\n",
       "      <th>1</th>\n",
       "      <td>2560419</td>\n",
       "      <td>CHARTWELLS</td>\n",
       "      <td>MANSUETO HIGH SCHOOL</td>\n",
       "      <td>2549059.0</td>\n",
       "      <td>HIGH SCHOOL KITCHEN</td>\n",
       "      <td>Risk 1 (High)</td>\n",
       "      <td>2911 W W 47TH ST</td>\n",
       "      <td>CHICAGO</td>\n",
       "      <td>IL</td>\n",
       "      <td>60632.0</td>\n",
       "      <td>07/07/2022</td>\n",
       "      <td>Canvass</td>\n",
       "      <td>Out of Business</td>\n",
       "      <td>NaN</td>\n",
       "      <td>NaN</td>\n",
       "      <td>NaN</td>\n",
       "      <td>NaN</td>\n",
       "    </tr>\n",
       "    <tr>\n",
       "      <th>2</th>\n",
       "      <td>2557095</td>\n",
       "      <td>WOW BAO</td>\n",
       "      <td>WOW BAO</td>\n",
       "      <td>1379974.0</td>\n",
       "      <td>Restaurant</td>\n",
       "      <td>Risk 1 (High)</td>\n",
       "      <td>835 N MICHIGAN AVE</td>\n",
       "      <td>CHICAGO</td>\n",
       "      <td>IL</td>\n",
       "      <td>60611.0</td>\n",
       "      <td>06/09/2022</td>\n",
       "      <td>Canvass Re-Inspection</td>\n",
       "      <td>Pass</td>\n",
       "      <td>NaN</td>\n",
       "      <td>41.897741</td>\n",
       "      <td>-87.623961</td>\n",
       "      <td>(41.897740856252504, -87.62396131598219)</td>\n",
       "    </tr>\n",
       "    <tr>\n",
       "      <th>3</th>\n",
       "      <td>2557044</td>\n",
       "      <td>PAN ARTESANAL</td>\n",
       "      <td>PAN ARTESANAL</td>\n",
       "      <td>2602146.0</td>\n",
       "      <td>Bakery</td>\n",
       "      <td>Risk 1 (High)</td>\n",
       "      <td>3724 W FULLERTON AVE</td>\n",
       "      <td>CHICAGO</td>\n",
       "      <td>IL</td>\n",
       "      <td>60647.0</td>\n",
       "      <td>06/09/2022</td>\n",
       "      <td>Canvass</td>\n",
       "      <td>Pass</td>\n",
       "      <td>NaN</td>\n",
       "      <td>41.924670</td>\n",
       "      <td>-87.720445</td>\n",
       "      <td>(41.92467025197142, -87.72044496440567)</td>\n",
       "    </tr>\n",
       "    <tr>\n",
       "      <th>4</th>\n",
       "      <td>2556917</td>\n",
       "      <td>BISTRO</td>\n",
       "      <td>BISTRO</td>\n",
       "      <td>2846045.0</td>\n",
       "      <td>Restaurant</td>\n",
       "      <td>Risk 1 (High)</td>\n",
       "      <td>1400 S JEAN BAPTISTE POINTE DUSABLE LAKESHORE DR</td>\n",
       "      <td>CHICAGO</td>\n",
       "      <td>IL</td>\n",
       "      <td>60605.0</td>\n",
       "      <td>06/07/2022</td>\n",
       "      <td>Canvass</td>\n",
       "      <td>Pass</td>\n",
       "      <td>NaN</td>\n",
       "      <td>NaN</td>\n",
       "      <td>NaN</td>\n",
       "      <td>NaN</td>\n",
       "    </tr>\n",
       "  </tbody>\n",
       "</table>\n",
       "</div>"
      ],
      "text/plain": [
       "   Inspection ID       DBA Name              AKA Name  License #  \\\n",
       "0        2561123     LOWCOUNTRY            LOWCOUNTRY  1042664.0   \n",
       "1        2560419     CHARTWELLS  MANSUETO HIGH SCHOOL  2549059.0   \n",
       "2        2557095        WOW BAO               WOW BAO  1379974.0   \n",
       "3        2557044  PAN ARTESANAL         PAN ARTESANAL  2602146.0   \n",
       "4        2556917         BISTRO                BISTRO  2846045.0   \n",
       "\n",
       "         Facility Type           Risk  \\\n",
       "0           Restaurant  Risk 1 (High)   \n",
       "1  HIGH SCHOOL KITCHEN  Risk 1 (High)   \n",
       "2           Restaurant  Risk 1 (High)   \n",
       "3               Bakery  Risk 1 (High)   \n",
       "4           Restaurant  Risk 1 (High)   \n",
       "\n",
       "                                             Address     City State      Zip  \\\n",
       "0                                   3343 N CLARK ST   CHICAGO    IL  60657.0   \n",
       "1                                  2911 W W 47TH ST   CHICAGO    IL  60632.0   \n",
       "2                                835 N MICHIGAN AVE   CHICAGO    IL  60611.0   \n",
       "3                              3724 W FULLERTON AVE   CHICAGO    IL  60647.0   \n",
       "4  1400 S JEAN BAPTISTE POINTE DUSABLE LAKESHORE DR   CHICAGO    IL  60605.0   \n",
       "\n",
       "  Inspection Date        Inspection Type          Results Violations  \\\n",
       "0      07/21/2022              Complaint         No Entry        NaN   \n",
       "1      07/07/2022                Canvass  Out of Business        NaN   \n",
       "2      06/09/2022  Canvass Re-Inspection             Pass        NaN   \n",
       "3      06/09/2022                Canvass             Pass        NaN   \n",
       "4      06/07/2022                Canvass             Pass        NaN   \n",
       "\n",
       "    Latitude  Longitude                                  Location  \n",
       "0  41.942869 -87.652863  (41.942869318828365, -87.65286280377227)  \n",
       "1        NaN        NaN                                       NaN  \n",
       "2  41.897741 -87.623961  (41.897740856252504, -87.62396131598219)  \n",
       "3  41.924670 -87.720445   (41.92467025197142, -87.72044496440567)  \n",
       "4        NaN        NaN                                       NaN  "
      ]
     },
     "execution_count": 88,
     "metadata": {},
     "output_type": "execute_result"
    }
   ],
   "source": [
    "df = pd.read_csv(\"Food_Inspections-Copy1.csv\")\n",
    "df.head()"
   ]
  },
  {
   "cell_type": "code",
   "execution_count": 89,
   "id": "9d27bb2c",
   "metadata": {},
   "outputs": [
    {
     "data": {
      "text/plain": [
       "(247140, 17)"
      ]
     },
     "execution_count": 89,
     "metadata": {},
     "output_type": "execute_result"
    }
   ],
   "source": [
    "df.shape"
   ]
  },
  {
   "cell_type": "code",
   "execution_count": 90,
   "id": "6cb758a5",
   "metadata": {},
   "outputs": [
    {
     "name": "stdout",
     "output_type": "stream",
     "text": [
      "<class 'pandas.core.frame.DataFrame'>\n",
      "RangeIndex: 247140 entries, 0 to 247139\n",
      "Data columns (total 17 columns):\n",
      " #   Column           Non-Null Count   Dtype  \n",
      "---  ------           --------------   -----  \n",
      " 0   Inspection ID    247140 non-null  int64  \n",
      " 1   DBA Name         247140 non-null  object \n",
      " 2   AKA Name         244655 non-null  object \n",
      " 3   License #        247132 non-null  float64\n",
      " 4   Facility Type    242113 non-null  object \n",
      " 5   Risk             247064 non-null  object \n",
      " 6   Address          247140 non-null  object \n",
      " 7   City             246968 non-null  object \n",
      " 8   State            247093 non-null  object \n",
      " 9   Zip              247062 non-null  float64\n",
      " 10  Inspection Date  247140 non-null  object \n",
      " 11  Inspection Type  247139 non-null  object \n",
      " 12  Results          247140 non-null  object \n",
      " 13  Violations       179983 non-null  object \n",
      " 14  Latitude         246287 non-null  float64\n",
      " 15  Longitude        246287 non-null  float64\n",
      " 16  Location         246287 non-null  object \n",
      "dtypes: float64(4), int64(1), object(12)\n",
      "memory usage: 32.1+ MB\n"
     ]
    }
   ],
   "source": [
    "df.info()"
   ]
  },
  {
   "cell_type": "markdown",
   "id": "ea88968b",
   "metadata": {},
   "source": [
    "#### **Removing Null values from violations column**"
   ]
  },
  {
   "cell_type": "code",
   "execution_count": 91,
   "id": "51242627",
   "metadata": {},
   "outputs": [
    {
     "data": {
      "text/plain": [
       "(179983, 17)"
      ]
     },
     "execution_count": 91,
     "metadata": {},
     "output_type": "execute_result"
    }
   ],
   "source": [
    "df = df[~df[\"Violations\"].isnull()]\n",
    "\n",
    "df.shape"
   ]
  },
  {
   "cell_type": "code",
   "execution_count": 92,
   "id": "9e56b275",
   "metadata": {},
   "outputs": [
    {
     "name": "stdout",
     "output_type": "stream",
     "text": [
      "Inspection ID 179983\n",
      "DBA Name 25078\n",
      "AKA Name 23756\n",
      "License # 31390\n",
      "Facility Type 445\n",
      "Risk 3\n",
      "Address 17237\n",
      "City 47\n",
      "State 5\n",
      "Zip 94\n",
      "Inspection Date 3241\n",
      "Inspection Type 60\n",
      "Results 6\n",
      "Violations 178840\n",
      "Latitude 16329\n",
      "Longitude 16329\n",
      "Location 16329\n"
     ]
    }
   ],
   "source": [
    "for i in df.columns:\n",
    "    print(i,df[i].nunique())"
   ]
  },
  {
   "cell_type": "markdown",
   "id": "8ac9afda",
   "metadata": {},
   "source": [
    "#### **Removing columns which are not needed**"
   ]
  },
  {
   "cell_type": "code",
   "execution_count": 93,
   "id": "467b2382",
   "metadata": {},
   "outputs": [],
   "source": [
    "df.drop([\"Inspection ID\",\"DBA Name\",\"AKA Name\",\"License #\",\"Address\",\"Inspection Date\",\"Latitude\",\"Longitude\",\"Location\"],axis=1,inplace=True)"
   ]
  },
  {
   "cell_type": "code",
   "execution_count": 94,
   "id": "e4d06018",
   "metadata": {},
   "outputs": [
    {
     "data": {
      "text/html": [
       "<div>\n",
       "<style scoped>\n",
       "    .dataframe tbody tr th:only-of-type {\n",
       "        vertical-align: middle;\n",
       "    }\n",
       "\n",
       "    .dataframe tbody tr th {\n",
       "        vertical-align: top;\n",
       "    }\n",
       "\n",
       "    .dataframe thead th {\n",
       "        text-align: right;\n",
       "    }\n",
       "</style>\n",
       "<table border=\"1\" class=\"dataframe\">\n",
       "  <thead>\n",
       "    <tr style=\"text-align: right;\">\n",
       "      <th></th>\n",
       "      <th>index</th>\n",
       "      <th>Facility Type</th>\n",
       "      <th>Risk</th>\n",
       "      <th>City</th>\n",
       "      <th>State</th>\n",
       "      <th>Zip</th>\n",
       "      <th>Inspection Type</th>\n",
       "      <th>Results</th>\n",
       "      <th>Violations</th>\n",
       "    </tr>\n",
       "  </thead>\n",
       "  <tbody>\n",
       "    <tr>\n",
       "      <th>0</th>\n",
       "      <td>24</td>\n",
       "      <td>Grocery Store</td>\n",
       "      <td>Risk 2 (Medium)</td>\n",
       "      <td>CHICAGO</td>\n",
       "      <td>IL</td>\n",
       "      <td>60659.0</td>\n",
       "      <td>Complaint Re-Inspection</td>\n",
       "      <td>Fail</td>\n",
       "      <td>6. PROPER EATING, TASTING, DRINKING, OR TOBACC...</td>\n",
       "    </tr>\n",
       "    <tr>\n",
       "      <th>1</th>\n",
       "      <td>33</td>\n",
       "      <td>Restaurant</td>\n",
       "      <td>Risk 1 (High)</td>\n",
       "      <td>CHICAGO</td>\n",
       "      <td>IL</td>\n",
       "      <td>60618.0</td>\n",
       "      <td>Canvass</td>\n",
       "      <td>Fail</td>\n",
       "      <td>3. MANAGEMENT, FOOD EMPLOYEE AND CONDITIONAL E...</td>\n",
       "    </tr>\n",
       "    <tr>\n",
       "      <th>2</th>\n",
       "      <td>51</td>\n",
       "      <td>Restaurant</td>\n",
       "      <td>Risk 1 (High)</td>\n",
       "      <td>CHICAGO</td>\n",
       "      <td>IL</td>\n",
       "      <td>60644.0</td>\n",
       "      <td>Complaint</td>\n",
       "      <td>Fail</td>\n",
       "      <td>3. MANAGEMENT, FOOD EMPLOYEE AND CONDITIONAL E...</td>\n",
       "    </tr>\n",
       "    <tr>\n",
       "      <th>3</th>\n",
       "      <td>54</td>\n",
       "      <td>Restaurant</td>\n",
       "      <td>Risk 1 (High)</td>\n",
       "      <td>CHICAGO</td>\n",
       "      <td>IL</td>\n",
       "      <td>60609.0</td>\n",
       "      <td>Complaint</td>\n",
       "      <td>Fail</td>\n",
       "      <td>1. PERSON IN CHARGE PRESENT, DEMONSTRATES KNOW...</td>\n",
       "    </tr>\n",
       "    <tr>\n",
       "      <th>4</th>\n",
       "      <td>65</td>\n",
       "      <td>Restaurant</td>\n",
       "      <td>Risk 1 (High)</td>\n",
       "      <td>CHICAGO</td>\n",
       "      <td>IL</td>\n",
       "      <td>60609.0</td>\n",
       "      <td>Canvass</td>\n",
       "      <td>Fail</td>\n",
       "      <td>1. PERSON IN CHARGE PRESENT, DEMONSTRATES KNOW...</td>\n",
       "    </tr>\n",
       "  </tbody>\n",
       "</table>\n",
       "</div>"
      ],
      "text/plain": [
       "   index  Facility Type             Risk     City State      Zip  \\\n",
       "0     24  Grocery Store  Risk 2 (Medium)  CHICAGO    IL  60659.0   \n",
       "1     33     Restaurant    Risk 1 (High)  CHICAGO    IL  60618.0   \n",
       "2     51     Restaurant    Risk 1 (High)  CHICAGO    IL  60644.0   \n",
       "3     54     Restaurant    Risk 1 (High)  CHICAGO    IL  60609.0   \n",
       "4     65     Restaurant    Risk 1 (High)  CHICAGO    IL  60609.0   \n",
       "\n",
       "           Inspection Type Results  \\\n",
       "0  Complaint Re-Inspection    Fail   \n",
       "1                  Canvass    Fail   \n",
       "2                Complaint    Fail   \n",
       "3                Complaint    Fail   \n",
       "4                  Canvass    Fail   \n",
       "\n",
       "                                          Violations  \n",
       "0  6. PROPER EATING, TASTING, DRINKING, OR TOBACC...  \n",
       "1  3. MANAGEMENT, FOOD EMPLOYEE AND CONDITIONAL E...  \n",
       "2  3. MANAGEMENT, FOOD EMPLOYEE AND CONDITIONAL E...  \n",
       "3  1. PERSON IN CHARGE PRESENT, DEMONSTRATES KNOW...  \n",
       "4  1. PERSON IN CHARGE PRESENT, DEMONSTRATES KNOW...  "
      ]
     },
     "execution_count": 94,
     "metadata": {},
     "output_type": "execute_result"
    }
   ],
   "source": [
    "df.reset_index(inplace=True)\n",
    "df.head()"
   ]
  },
  {
   "cell_type": "code",
   "execution_count": 95,
   "id": "f89512da",
   "metadata": {},
   "outputs": [
    {
     "data": {
      "text/plain": [
       "array(['IL', 'IN', nan, 'CA', 'NY', 'WI'], dtype=object)"
      ]
     },
     "execution_count": 95,
     "metadata": {},
     "output_type": "execute_result"
    }
   ],
   "source": [
    "df[\"State\"].unique()"
   ]
  },
  {
   "cell_type": "code",
   "execution_count": 96,
   "id": "6526fa8a",
   "metadata": {},
   "outputs": [],
   "source": [
    "df.drop([\"index\",\"Facility Type\",\"City\",\"State\",\"Zip\",\"Inspection Type\"],axis=1,inplace=True)"
   ]
  },
  {
   "cell_type": "code",
   "execution_count": 97,
   "id": "4c43fc1b",
   "metadata": {},
   "outputs": [
    {
     "data": {
      "text/html": [
       "<div>\n",
       "<style scoped>\n",
       "    .dataframe tbody tr th:only-of-type {\n",
       "        vertical-align: middle;\n",
       "    }\n",
       "\n",
       "    .dataframe tbody tr th {\n",
       "        vertical-align: top;\n",
       "    }\n",
       "\n",
       "    .dataframe thead th {\n",
       "        text-align: right;\n",
       "    }\n",
       "</style>\n",
       "<table border=\"1\" class=\"dataframe\">\n",
       "  <thead>\n",
       "    <tr style=\"text-align: right;\">\n",
       "      <th></th>\n",
       "      <th>Risk</th>\n",
       "      <th>Results</th>\n",
       "      <th>Violations</th>\n",
       "    </tr>\n",
       "  </thead>\n",
       "  <tbody>\n",
       "    <tr>\n",
       "      <th>0</th>\n",
       "      <td>Risk 2 (Medium)</td>\n",
       "      <td>Fail</td>\n",
       "      <td>6. PROPER EATING, TASTING, DRINKING, OR TOBACC...</td>\n",
       "    </tr>\n",
       "    <tr>\n",
       "      <th>1</th>\n",
       "      <td>Risk 1 (High)</td>\n",
       "      <td>Fail</td>\n",
       "      <td>3. MANAGEMENT, FOOD EMPLOYEE AND CONDITIONAL E...</td>\n",
       "    </tr>\n",
       "    <tr>\n",
       "      <th>2</th>\n",
       "      <td>Risk 1 (High)</td>\n",
       "      <td>Fail</td>\n",
       "      <td>3. MANAGEMENT, FOOD EMPLOYEE AND CONDITIONAL E...</td>\n",
       "    </tr>\n",
       "    <tr>\n",
       "      <th>3</th>\n",
       "      <td>Risk 1 (High)</td>\n",
       "      <td>Fail</td>\n",
       "      <td>1. PERSON IN CHARGE PRESENT, DEMONSTRATES KNOW...</td>\n",
       "    </tr>\n",
       "    <tr>\n",
       "      <th>4</th>\n",
       "      <td>Risk 1 (High)</td>\n",
       "      <td>Fail</td>\n",
       "      <td>1. PERSON IN CHARGE PRESENT, DEMONSTRATES KNOW...</td>\n",
       "    </tr>\n",
       "  </tbody>\n",
       "</table>\n",
       "</div>"
      ],
      "text/plain": [
       "              Risk Results                                         Violations\n",
       "0  Risk 2 (Medium)    Fail  6. PROPER EATING, TASTING, DRINKING, OR TOBACC...\n",
       "1    Risk 1 (High)    Fail  3. MANAGEMENT, FOOD EMPLOYEE AND CONDITIONAL E...\n",
       "2    Risk 1 (High)    Fail  3. MANAGEMENT, FOOD EMPLOYEE AND CONDITIONAL E...\n",
       "3    Risk 1 (High)    Fail  1. PERSON IN CHARGE PRESENT, DEMONSTRATES KNOW...\n",
       "4    Risk 1 (High)    Fail  1. PERSON IN CHARGE PRESENT, DEMONSTRATES KNOW..."
      ]
     },
     "execution_count": 97,
     "metadata": {},
     "output_type": "execute_result"
    }
   ],
   "source": [
    "df.head()"
   ]
  },
  {
   "cell_type": "code",
   "execution_count": 98,
   "id": "702f9a83",
   "metadata": {},
   "outputs": [
    {
     "name": "stdout",
     "output_type": "stream",
     "text": [
      "<class 'pandas.core.frame.DataFrame'>\n",
      "RangeIndex: 179983 entries, 0 to 179982\n",
      "Data columns (total 3 columns):\n",
      " #   Column      Non-Null Count   Dtype \n",
      "---  ------      --------------   ----- \n",
      " 0   Risk        179981 non-null  object\n",
      " 1   Results     179983 non-null  object\n",
      " 2   Violations  179983 non-null  object\n",
      "dtypes: object(3)\n",
      "memory usage: 4.1+ MB\n"
     ]
    }
   ],
   "source": [
    "df.info()"
   ]
  },
  {
   "cell_type": "code",
   "execution_count": 99,
   "id": "a8042ac1",
   "metadata": {},
   "outputs": [],
   "source": [
    "df.dropna(inplace=True)"
   ]
  },
  {
   "cell_type": "code",
   "execution_count": 100,
   "id": "66ea8af4",
   "metadata": {},
   "outputs": [
    {
     "data": {
      "text/plain": [
       "Pass                  97287\n",
       "Fail                  44604\n",
       "Pass w/ Conditions    37369\n",
       "No Entry                610\n",
       "Not Ready                71\n",
       "Out of Business          40\n",
       "Name: Results, dtype: int64"
      ]
     },
     "execution_count": 100,
     "metadata": {},
     "output_type": "execute_result"
    }
   ],
   "source": [
    "df[\"Results\"].value_counts()"
   ]
  },
  {
   "cell_type": "code",
   "execution_count": 101,
   "id": "75be2279",
   "metadata": {},
   "outputs": [
    {
     "data": {
      "text/plain": [
       "\"6. PROPER EATING, TASTING, DRINKING, OR TOBACCO USE - Comments: 2-401.11  OBSERVED COFFEE CUPS, PIZZA BOXES AND DOUGHNUTS STORED IN THE MEAT PREP AREA ON THE CUTTING BOARDS AND COUNTERTOPS.  MANAGEMENT INSTRUCTED THAT EMPLOYEES MUST EAT AND DRINK IN DESIGNATED AREAS ONLY. | 10. ADEQUATE HANDWASHING SINKS PROPERLY SUPPLIED AND ACCESSIBLE - Comments: 6-301.14  OBSERVED NO HAND WASHING SIGN LOCATED IN THE WASHROOM ADJACENT TO THE MEAT PREP AREA.  MANAGEMENT INSTRUCTED TO INSTALL AND MAINTAIN. | 10. ADEQUATE HANDWASHING SINKS PROPERLY SUPPLIED AND ACCESSIBLE - Comments: 5-204.11  OBSERVED NO EXPOSED HAND WASHING SINK LOCATED AT THE FRONT CASH REGISTER STATION WHERE FETA CHEESE IS SERVED OUT OF THE DELI CASE TO CUSTOMERS. MANAGEMENT INSTRUCTED TO INSTALL AN EXPOSED HAND WASHING SINK IN THIS AREA OR RELOCATE THE COOLER WHERE A HAND WASHING SINK IS CLOSE AND ACCESSIBLE. PRIORITY FOUNDATION 7-38-030(C). NO CITATION ISSUED. | 29. COMPLIANCE WITH VARIANCE/SPECIALIZED PROCESS/HACCP - Comments: 3-502.12 VACUUM PACKAGING DEVICE ON COUNTERTOP IN REAR MEAT PREPARATION AREA.  UNIT TAGGED 'HELD FOR INSPECTION' AT THIS TIME.  MUST OBTAIN CDPH APPROVAL PRIOR TO TAG REMOVAL AND USE OF DEVICE. | 38. INSECTS, RODENTS, & ANIMALS NOT PRESENT - Comments: 6-501.112  OBSERVED DEAD INSECTS ON THE FLOOR OF THE BASEMENT STORAGE AREA.  MANAGEMENT INSTRUCTED TO CLEAN AND REMOVE ALL DEAD INSECTS. | 47. FOOD & NON-FOOD CONTACT SURFACES CLEANABLE, PROPERLY DESIGNED, CONSTRUCTED & USED - Comments: 4-501.12  OBSERVED SOME CUTTING BOARDS IN THE MEAT PREP AND PRODUCE PREP AREA THAT ARE HEAVILY SCORED AND DISCOLORED.  MANAGEMENT INSTRUCTED TO RESURFACE OR REPLACE THE CUTTING BOARDS. | 47. FOOD & NON-FOOD CONTACT SURFACES CLEANABLE, PROPERLY DESIGNED, CONSTRUCTED & USED - Comments: 4-202.16  OBSERVED MILK AND SODA CRATES USED FOR STORAGE IN THE WALK-IN COOLER WITH ACCUMULATED FOOD DEBRIS UNDER THE CRATES.  MANAGEMENT INSTRUCTED TO REMOVE AND REPLACE WITH SOMETHING WHICH ALLOWS FOR EASY CLEANING, SUCH AS RAISED SHELVING UNITS. | 49. NON-FOOD/FOOD CONTACT SURFACES CLEAN - Comments: 4-602.13  CLEAN THE TOASTER OVEN IN THE PRODUCE PREP AREA, AND THE FAN COVERS IN THE MEAT WALK-IN COOLER. | 53. TOILET FACILITIES: PROPERLY CONSTRUCTED, SUPPLIED, & CLEANED - Comments: 6-501.19  THE SELF-CLOSING DOOR DEVICE FOR THE WASHROOM DOOR IS NOT INSTALLED.  MANAGEMENT INSTRUCTED TO REPAIR AND MAINTAIN. | 54. GARBAGE & REFUSE PROPERLY DISPOSED; FACILITIES MAINTAINED - Comments: 5-501.110  OBSERVED USED CUTTING BOARDS AND GARBAGE AND LITTER ON THE GROUND SURROUNDING THE GARBAGE DUMPSTERS.  MANAGEMENT INSTRUCTED TO CLEAN AND MAINTAIN THE OUTSIDE GARBAGE AREA AT ALL TIMES.  PRIORITY FOUNDATION 7-38-020(B).  CITATION ISSUED. | 55. PHYSICAL FACILITIES INSTALLED, MAINTAINED & CLEAN - Comments: 6-501.114  REMOVE ALL UNNECESSARY ITEMS FROM UNDER THE STAIRCASE TO THE OFFICE AND BASEMENT. STORE ALL ELSE TO PREVENT PEST HARBORAGE AND TO FACILITATE CLEANING. | 55. PHYSICAL FACILITIES INSTALLED, MAINTAINED & CLEAN - Comments: 6-501.12  CLEAN THE WALLS IN THE MEAT PREP AREAS AND PRODUCE PREP AREA WITH FOOD DEBRIS AND SPLATTER.  CLEAN THE FLOOR THROUGHOUT THE PREP AREAS, WALK-IN COOLERS AND BASEMENT. REMOVE ALL LITTER AND DEBRIS. | 55. PHYSICAL FACILITIES INSTALLED, MAINTAINED & CLEAN - Comments: 6-501.16  OBSERVED A WET MOP STORED ON THE FLOOR IN THE PRODUCE PREP AREA.  MANAGEMENT INSTRUCTED TO HANG ALL MOPS TO ALLOW THEM TO AIR DRY. | 59. PREVIOUS PRIORITY FOUNDATION VIOLATION CORRECTED - Comments: 8-404.13(B)(3)  PREVIOUS PRIORITY FOUNDATION VIOLATION FROM REPORT #2528686 ON 8/27/21 NOT CORRECTED:  38 - OBSERVED OVER 50 LIVE SMALL FLYING INSECTS ON THE WALLS AND FLYING AROUND IN THE PRODUCE PREP AREA, MEAT PREP AREAS AND FRUIT DISPLAY AREAS.  ADDITIONAL PEST CONTROL SERVICE IS NEEDED TO ELIMINATE THE PEST ACTIVITY.  PRIORITY 7-42-090.  CITATION ISSUED. | 60. PREVIOUS CORE VIOLATION CORRECTED - Comments: 8-404.13(B)(4)  PREVIOUS CORE VIOLATIONS FROM REPORT #2509827 ON 5/17/21 NOT CORRECTED: 57 - NO PROOF OF FOOD HANDLER TRAINING CERTIFICATE FOR ALL EMPLOYEES HANDLING FOOD. INSTRUCTED TO PROVIDE. PRIORITY FOUNDATION 7-42-090. | 64. MISCELLANEOUS / PUBLIC HEALTH ORDERS - Comments: OBSERVED SEVERAL EMPLOYEES AND CUSTOMERS NOT WEARING A FACE MASK WHILE INSIDE OF THE STORE. MANAGEMENT INSTRUCTED THAT ALL EMPLOYEES AND CUSTOMERS MUST WEAR A FACE MASK WHILE INSIDE OF THE STORE AT ALL TIMES. UNSAFE AND UNSANITARY PREMISES 7-28-060. CITATION ISSUED.\""
      ]
     },
     "execution_count": 101,
     "metadata": {},
     "output_type": "execute_result"
    }
   ],
   "source": [
    "df[\"Violations\"][0]"
   ]
  },
  {
   "cell_type": "code",
   "execution_count": 102,
   "id": "2a441729",
   "metadata": {},
   "outputs": [
    {
     "data": {
      "text/plain": [
       "array(['Risk 2 (Medium)', 'Risk 1 (High)', 'Risk 3 (Low)'], dtype=object)"
      ]
     },
     "execution_count": 102,
     "metadata": {},
     "output_type": "execute_result"
    }
   ],
   "source": [
    "df[\"Risk\"].unique()"
   ]
  },
  {
   "cell_type": "code",
   "execution_count": 103,
   "id": "d4ba7986",
   "metadata": {},
   "outputs": [],
   "source": [
    "df[\"Risk\"] = df[\"Risk\"].map({'Risk 2 (Medium)':1,'Risk 1 (High)':2,'Risk 3 (Low)':0})"
   ]
  },
  {
   "cell_type": "markdown",
   "id": "76d20e04",
   "metadata": {},
   "source": [
    "### **Making it a binary classification problem by making the results as 0 or 1**"
   ]
  },
  {
   "cell_type": "code",
   "execution_count": 104,
   "id": "b5c01c8b",
   "metadata": {},
   "outputs": [],
   "source": [
    "def group_result(result):\n",
    "    if result == 'Pass':\n",
    "        return 1\n",
    "    elif result == 'Pass w/ Conditions':\n",
    "        return 1\n",
    "    else:\n",
    "        return 0\n",
    "\n",
    "df[\"results_final\"] = df[\"Results\"].apply(lambda x: group_result(x))"
   ]
  },
  {
   "cell_type": "code",
   "execution_count": 105,
   "id": "675385fe",
   "metadata": {},
   "outputs": [
    {
     "data": {
      "text/html": [
       "<div>\n",
       "<style scoped>\n",
       "    .dataframe tbody tr th:only-of-type {\n",
       "        vertical-align: middle;\n",
       "    }\n",
       "\n",
       "    .dataframe tbody tr th {\n",
       "        vertical-align: top;\n",
       "    }\n",
       "\n",
       "    .dataframe thead th {\n",
       "        text-align: right;\n",
       "    }\n",
       "</style>\n",
       "<table border=\"1\" class=\"dataframe\">\n",
       "  <thead>\n",
       "    <tr style=\"text-align: right;\">\n",
       "      <th></th>\n",
       "      <th>Risk</th>\n",
       "      <th>Results</th>\n",
       "      <th>Violations</th>\n",
       "      <th>results_final</th>\n",
       "    </tr>\n",
       "  </thead>\n",
       "  <tbody>\n",
       "    <tr>\n",
       "      <th>0</th>\n",
       "      <td>1</td>\n",
       "      <td>Fail</td>\n",
       "      <td>6. PROPER EATING, TASTING, DRINKING, OR TOBACC...</td>\n",
       "      <td>0</td>\n",
       "    </tr>\n",
       "    <tr>\n",
       "      <th>1</th>\n",
       "      <td>2</td>\n",
       "      <td>Fail</td>\n",
       "      <td>3. MANAGEMENT, FOOD EMPLOYEE AND CONDITIONAL E...</td>\n",
       "      <td>0</td>\n",
       "    </tr>\n",
       "    <tr>\n",
       "      <th>2</th>\n",
       "      <td>2</td>\n",
       "      <td>Fail</td>\n",
       "      <td>3. MANAGEMENT, FOOD EMPLOYEE AND CONDITIONAL E...</td>\n",
       "      <td>0</td>\n",
       "    </tr>\n",
       "    <tr>\n",
       "      <th>3</th>\n",
       "      <td>2</td>\n",
       "      <td>Fail</td>\n",
       "      <td>1. PERSON IN CHARGE PRESENT, DEMONSTRATES KNOW...</td>\n",
       "      <td>0</td>\n",
       "    </tr>\n",
       "    <tr>\n",
       "      <th>4</th>\n",
       "      <td>2</td>\n",
       "      <td>Fail</td>\n",
       "      <td>1. PERSON IN CHARGE PRESENT, DEMONSTRATES KNOW...</td>\n",
       "      <td>0</td>\n",
       "    </tr>\n",
       "  </tbody>\n",
       "</table>\n",
       "</div>"
      ],
      "text/plain": [
       "   Risk Results                                         Violations  \\\n",
       "0     1    Fail  6. PROPER EATING, TASTING, DRINKING, OR TOBACC...   \n",
       "1     2    Fail  3. MANAGEMENT, FOOD EMPLOYEE AND CONDITIONAL E...   \n",
       "2     2    Fail  3. MANAGEMENT, FOOD EMPLOYEE AND CONDITIONAL E...   \n",
       "3     2    Fail  1. PERSON IN CHARGE PRESENT, DEMONSTRATES KNOW...   \n",
       "4     2    Fail  1. PERSON IN CHARGE PRESENT, DEMONSTRATES KNOW...   \n",
       "\n",
       "   results_final  \n",
       "0              0  \n",
       "1              0  \n",
       "2              0  \n",
       "3              0  \n",
       "4              0  "
      ]
     },
     "execution_count": 105,
     "metadata": {},
     "output_type": "execute_result"
    }
   ],
   "source": [
    "df.head()"
   ]
  },
  {
   "cell_type": "markdown",
   "id": "d94bb94b",
   "metadata": {},
   "source": [
    "### **Extracting comments from the violations column**"
   ]
  },
  {
   "cell_type": "code",
   "execution_count": 106,
   "id": "6a447b95",
   "metadata": {},
   "outputs": [],
   "source": [
    "df[\"comments\"] = df[\"Violations\"].apply(lambda x : re.sub(r'[0-9#\\-]+\\.[0-9]+\\s+','',x))\n",
    "df[\"comments\"] = df[\"comments\"].apply(lambda x : re.findall(r'(?<=Comments: )[^|]*(?=\\||$)',x))\n",
    "df['comments'] = df['comments'].apply(lambda x: ' '.join(str(i) for i in x))\n"
   ]
  },
  {
   "cell_type": "code",
   "execution_count": 107,
   "id": "b2ec5343",
   "metadata": {},
   "outputs": [
    {
     "data": {
      "text/html": [
       "<div>\n",
       "<style scoped>\n",
       "    .dataframe tbody tr th:only-of-type {\n",
       "        vertical-align: middle;\n",
       "    }\n",
       "\n",
       "    .dataframe tbody tr th {\n",
       "        vertical-align: top;\n",
       "    }\n",
       "\n",
       "    .dataframe thead th {\n",
       "        text-align: right;\n",
       "    }\n",
       "</style>\n",
       "<table border=\"1\" class=\"dataframe\">\n",
       "  <thead>\n",
       "    <tr style=\"text-align: right;\">\n",
       "      <th></th>\n",
       "      <th>Risk</th>\n",
       "      <th>Results</th>\n",
       "      <th>Violations</th>\n",
       "      <th>results_final</th>\n",
       "      <th>comments</th>\n",
       "    </tr>\n",
       "  </thead>\n",
       "  <tbody>\n",
       "    <tr>\n",
       "      <th>0</th>\n",
       "      <td>1</td>\n",
       "      <td>Fail</td>\n",
       "      <td>6. PROPER EATING, TASTING, DRINKING, OR TOBACC...</td>\n",
       "      <td>0</td>\n",
       "      <td>OBSERVED COFFEE CUPS, PIZZA BOXES AND DOUGHNUT...</td>\n",
       "    </tr>\n",
       "    <tr>\n",
       "      <th>1</th>\n",
       "      <td>2</td>\n",
       "      <td>Fail</td>\n",
       "      <td>3. MANAGEMENT, FOOD EMPLOYEE AND CONDITIONAL E...</td>\n",
       "      <td>0</td>\n",
       "      <td>OBSERVED NO VERIFIABLE HEALTH POLICY ON SITE A...</td>\n",
       "    </tr>\n",
       "    <tr>\n",
       "      <th>2</th>\n",
       "      <td>2</td>\n",
       "      <td>Fail</td>\n",
       "      <td>3. MANAGEMENT, FOOD EMPLOYEE AND CONDITIONAL E...</td>\n",
       "      <td>0</td>\n",
       "      <td>OBSERVED NO WRITTEN EMPLOYEE HEALTH POLICY ON ...</td>\n",
       "    </tr>\n",
       "    <tr>\n",
       "      <th>3</th>\n",
       "      <td>2</td>\n",
       "      <td>Fail</td>\n",
       "      <td>1. PERSON IN CHARGE PRESENT, DEMONSTRATES KNOW...</td>\n",
       "      <td>0</td>\n",
       "      <td>PIC DOESN'T HAVE A CERTIFIED FOOD MANAGERS CER...</td>\n",
       "    </tr>\n",
       "    <tr>\n",
       "      <th>4</th>\n",
       "      <td>2</td>\n",
       "      <td>Fail</td>\n",
       "      <td>1. PERSON IN CHARGE PRESENT, DEMONSTRATES KNOW...</td>\n",
       "      <td>0</td>\n",
       "      <td>PIC DOESN'T HAVE A FOOD MANAGERS CERTIFICATE.M...</td>\n",
       "    </tr>\n",
       "  </tbody>\n",
       "</table>\n",
       "</div>"
      ],
      "text/plain": [
       "   Risk Results                                         Violations  \\\n",
       "0     1    Fail  6. PROPER EATING, TASTING, DRINKING, OR TOBACC...   \n",
       "1     2    Fail  3. MANAGEMENT, FOOD EMPLOYEE AND CONDITIONAL E...   \n",
       "2     2    Fail  3. MANAGEMENT, FOOD EMPLOYEE AND CONDITIONAL E...   \n",
       "3     2    Fail  1. PERSON IN CHARGE PRESENT, DEMONSTRATES KNOW...   \n",
       "4     2    Fail  1. PERSON IN CHARGE PRESENT, DEMONSTRATES KNOW...   \n",
       "\n",
       "   results_final                                           comments  \n",
       "0              0  OBSERVED COFFEE CUPS, PIZZA BOXES AND DOUGHNUT...  \n",
       "1              0  OBSERVED NO VERIFIABLE HEALTH POLICY ON SITE A...  \n",
       "2              0  OBSERVED NO WRITTEN EMPLOYEE HEALTH POLICY ON ...  \n",
       "3              0  PIC DOESN'T HAVE A CERTIFIED FOOD MANAGERS CER...  \n",
       "4              0  PIC DOESN'T HAVE A FOOD MANAGERS CERTIFICATE.M...  "
      ]
     },
     "execution_count": 107,
     "metadata": {},
     "output_type": "execute_result"
    }
   ],
   "source": [
    "df.head()"
   ]
  },
  {
   "cell_type": "code",
   "execution_count": 108,
   "id": "47036894",
   "metadata": {},
   "outputs": [
    {
     "data": {
      "text/plain": [
       "(179981, 5)"
      ]
     },
     "execution_count": 108,
     "metadata": {},
     "output_type": "execute_result"
    }
   ],
   "source": [
    "df.shape"
   ]
  },
  {
   "cell_type": "markdown",
   "id": "80c58ba9",
   "metadata": {},
   "source": [
    "### **Seperating data into training and test data**"
   ]
  },
  {
   "cell_type": "code",
   "execution_count": 109,
   "id": "c505a473",
   "metadata": {},
   "outputs": [
    {
     "name": "stdout",
     "output_type": "stream",
     "text": [
      "(125986,)\n",
      "(53995,)\n",
      "(125986,)\n",
      "(53995,)\n"
     ]
    }
   ],
   "source": [
    "X = df.comments\n",
    "y = df.results_final\n",
    "from sklearn.model_selection import train_test_split\n",
    "X_train, X_test, y_train, y_test = train_test_split(X, y,test_size=0.3, random_state=45623)\n",
    "\n",
    "print(X_train.shape)\n",
    "print(X_test.shape)\n",
    "print(y_train.shape)\n",
    "print(y_test.shape)"
   ]
  },
  {
   "cell_type": "markdown",
   "id": "d3472692",
   "metadata": {},
   "source": [
    "### **Applying text preprocessing techniques**"
   ]
  },
  {
   "cell_type": "code",
   "execution_count": 110,
   "id": "e61a2e46",
   "metadata": {},
   "outputs": [],
   "source": [
    "from sklearn.feature_extraction.text import CountVectorizer, TfidfVectorizer"
   ]
  },
  {
   "cell_type": "markdown",
   "id": "c1452734",
   "metadata": {},
   "source": [
    "#### **Count Vectorizer**"
   ]
  },
  {
   "cell_type": "code",
   "execution_count": 111,
   "id": "e83c180a",
   "metadata": {},
   "outputs": [
    {
     "name": "stdout",
     "output_type": "stream",
     "text": [
      "CPU times: user 43.9 s, sys: 1.89 s, total: 45.8 s\n",
      "Wall time: 46.1 s\n"
     ]
    }
   ],
   "source": [
    "cv = CountVectorizer(stop_words='english', ngram_range=(1,3))\n",
    "%time X_train_cv = cv.fit_transform(X_train)"
   ]
  },
  {
   "cell_type": "markdown",
   "id": "1d532ff5",
   "metadata": {},
   "source": [
    "#### **Tfidf Vectorizer**"
   ]
  },
  {
   "cell_type": "code",
   "execution_count": 112,
   "id": "d126d488",
   "metadata": {},
   "outputs": [
    {
     "name": "stdout",
     "output_type": "stream",
     "text": [
      "CPU times: user 45.5 s, sys: 2.45 s, total: 48 s\n",
      "Wall time: 48.3 s\n"
     ]
    }
   ],
   "source": [
    "tfidf = TfidfVectorizer(stop_words=\"english\",ngram_range=(1,3))\n",
    "%time X_train_tfidf = tfidf.fit_transform(X_train)"
   ]
  },
  {
   "cell_type": "code",
   "execution_count": 113,
   "id": "d72cc3f9",
   "metadata": {},
   "outputs": [],
   "source": [
    "X_test_cv = cv.transform(X_test)\n",
    "X_test_tfidf = tfidf.transform(X_test)"
   ]
  },
  {
   "cell_type": "markdown",
   "id": "9a19a2d8",
   "metadata": {},
   "source": [
    "### **Building and comparing the classification model**"
   ]
  },
  {
   "cell_type": "markdown",
   "id": "66d81da9",
   "metadata": {},
   "source": [
    "### **1. Logistic Regression**"
   ]
  },
  {
   "cell_type": "markdown",
   "id": "a46c508d",
   "metadata": {},
   "source": [
    "#### **1.1 Logistic Regression with Count Vectorizer**"
   ]
  },
  {
   "cell_type": "code",
   "execution_count": 114,
   "id": "e7521036",
   "metadata": {},
   "outputs": [],
   "source": [
    "from sklearn.linear_model import LogisticRegression\n",
    "from sklearn import svm\n",
    "from sklearn.naive_bayes import GaussianNB,MultinomialNB"
   ]
  },
  {
   "cell_type": "code",
   "execution_count": 115,
   "id": "41db6d48",
   "metadata": {},
   "outputs": [
    {
     "name": "stdout",
     "output_type": "stream",
     "text": [
      "CPU times: user 5min 30s, sys: 1min 11s, total: 6min 41s\n",
      "Wall time: 1min 8s\n"
     ]
    },
    {
     "name": "stderr",
     "output_type": "stream",
     "text": [
      "/Users/suyashlakhani/opt/anaconda3/lib/python3.9/site-packages/sklearn/linear_model/_logistic.py:763: ConvergenceWarning: lbfgs failed to converge (status=1):\n",
      "STOP: TOTAL NO. of ITERATIONS REACHED LIMIT.\n",
      "\n",
      "Increase the number of iterations (max_iter) or scale the data as shown in:\n",
      "    https://scikit-learn.org/stable/modules/preprocessing.html\n",
      "Please also refer to the documentation for alternative solver options:\n",
      "    https://scikit-learn.org/stable/modules/linear_model.html#logistic-regression\n",
      "  n_iter_i = _check_optimize_result(\n"
     ]
    },
    {
     "data": {
      "text/plain": [
       "LogisticRegression()"
      ]
     },
     "execution_count": 115,
     "metadata": {},
     "output_type": "execute_result"
    }
   ],
   "source": [
    "logreg_cv = LogisticRegression()\n",
    "%time logreg_cv.fit(X_train_cv, y_train)"
   ]
  },
  {
   "cell_type": "code",
   "execution_count": 116,
   "id": "13eeaedd",
   "metadata": {},
   "outputs": [],
   "source": [
    "y_pred_cv = logreg_cv.predict(X_test_cv)"
   ]
  },
  {
   "cell_type": "code",
   "execution_count": 117,
   "id": "66361b56",
   "metadata": {},
   "outputs": [
    {
     "name": "stdout",
     "output_type": "stream",
     "text": [
      "              precision    recall  f1-score   support\n",
      "\n",
      "           0       0.91      0.85      0.88     13559\n",
      "           1       0.95      0.97      0.96     40436\n",
      "\n",
      "    accuracy                           0.94     53995\n",
      "   macro avg       0.93      0.91      0.92     53995\n",
      "weighted avg       0.94      0.94      0.94     53995\n",
      "\n"
     ]
    }
   ],
   "source": [
    "from sklearn.metrics import classification_report\n",
    "print(classification_report(y_test, y_pred_cv))"
   ]
  },
  {
   "cell_type": "code",
   "execution_count": 118,
   "id": "01e01b04",
   "metadata": {},
   "outputs": [
    {
     "name": "stdout",
     "output_type": "stream",
     "text": [
      "Test Accuracy: 94.2%\n"
     ]
    }
   ],
   "source": [
    "from sklearn import metrics\n",
    "print(f\"Test Accuracy: {metrics.accuracy_score(y_test, y_pred_cv) * 100:.1f}%\")"
   ]
  },
  {
   "cell_type": "code",
   "execution_count": 119,
   "id": "0646f722",
   "metadata": {},
   "outputs": [
    {
     "name": "stdout",
     "output_type": "stream",
     "text": [
      "[[11539  2020]\n",
      " [ 1100 39336]]\n"
     ]
    }
   ],
   "source": [
    "print(metrics.confusion_matrix(y_test, y_pred_cv))"
   ]
  },
  {
   "cell_type": "code",
   "execution_count": 120,
   "id": "5c0ef522",
   "metadata": {},
   "outputs": [
    {
     "data": {
      "text/plain": [
       "0.9658240345438642"
      ]
     },
     "execution_count": 120,
     "metadata": {},
     "output_type": "execute_result"
    }
   ],
   "source": [
    "from sklearn.metrics import roc_curve, auc, roc_auc_score\n",
    "\n",
    "y_pred_prob_cv = logreg_cv.predict_proba(X_test_cv)\n",
    "roc_auc_score(y_test, y_pred_prob_cv[:,1])"
   ]
  },
  {
   "cell_type": "code",
   "execution_count": 121,
   "id": "b9dc8c4d",
   "metadata": {},
   "outputs": [
    {
     "data": {
      "image/png": "[encoded data removed]",
      "text/plain": [
       "<Figure size 432x288 with 1 Axes>"
      ]
     },
     "metadata": {
      "needs_background": "light"
     },
     "output_type": "display_data"
    }
   ],
   "source": [
    "def roc_curve_plot(y_test_, y_pred_prob_):\n",
    "    roc_score = roc_auc_score(y_test_, y_pred_prob_)\n",
    "    fpr, tpr, thresholds = roc_curve(y_test_, y_pred_prob_)\n",
    "    plt.figure()\n",
    "    lw = 2\n",
    "    plt.plot(fpr, tpr, color='green',\n",
    "             lw=lw, label='ROC curve (area = %0.2f)' % roc_score)\n",
    "    plt.plot([0, 1], [0, 1], color='navy', lw=lw, linestyle='--')\n",
    "    plt.xlim([0.0, 1.05])\n",
    "    plt.ylim([0.0, 1.05])\n",
    "    plt.xlabel('False Positive Rate')\n",
    "    plt.ylabel('True Positive Rate')\n",
    "    plt.title('ROC Curve')\n",
    "    plt.legend(loc=\"lower right\")\n",
    "    plt.show()\n",
    "    \n",
    "roc_curve_plot(y_test, y_pred_prob_cv[:,1])"
   ]
  },
  {
   "cell_type": "markdown",
   "id": "0482bc94",
   "metadata": {},
   "source": [
    "#### **1.2 Logistic Regression with Tfidf Vectorizer**"
   ]
  },
  {
   "cell_type": "code",
   "execution_count": 122,
   "id": "c54a1d5e",
   "metadata": {},
   "outputs": [
    {
     "name": "stderr",
     "output_type": "stream",
     "text": [
      "/Users/suyashlakhani/opt/anaconda3/lib/python3.9/site-packages/sklearn/linear_model/_logistic.py:763: ConvergenceWarning: lbfgs failed to converge (status=1):\n",
      "STOP: TOTAL NO. of ITERATIONS REACHED LIMIT.\n",
      "\n",
      "Increase the number of iterations (max_iter) or scale the data as shown in:\n",
      "    https://scikit-learn.org/stable/modules/preprocessing.html\n",
      "Please also refer to the documentation for alternative solver options:\n",
      "    https://scikit-learn.org/stable/modules/linear_model.html#logistic-regression\n",
      "  n_iter_i = _check_optimize_result(\n"
     ]
    },
    {
     "name": "stdout",
     "output_type": "stream",
     "text": [
      "CPU times: user 4min 39s, sys: 1min 22s, total: 6min 2s\n",
      "Wall time: 1min 11s\n"
     ]
    }
   ],
   "source": [
    "logreg_tfidf = LogisticRegression()\n",
    "%time logreg_tfidf.fit(X_train_tfidf, y_train)\n",
    "y_pred_tfidf = logreg_tfidf.predict(X_test_tfidf)"
   ]
  },
  {
   "cell_type": "code",
   "execution_count": 123,
   "id": "f91b1923",
   "metadata": {},
   "outputs": [
    {
     "name": "stdout",
     "output_type": "stream",
     "text": [
      "              precision    recall  f1-score   support\n",
      "\n",
      "           0       0.90      0.84      0.87     13559\n",
      "           1       0.95      0.97      0.96     40436\n",
      "\n",
      "    accuracy                           0.94     53995\n",
      "   macro avg       0.93      0.91      0.91     53995\n",
      "weighted avg       0.94      0.94      0.94     53995\n",
      "\n"
     ]
    }
   ],
   "source": [
    "print(classification_report(y_test, y_pred_tfidf))"
   ]
  },
  {
   "cell_type": "code",
   "execution_count": 150,
   "id": "b9a067b5",
   "metadata": {},
   "outputs": [
    {
     "name": "stdout",
     "output_type": "stream",
     "text": [
      "Test Accuracy: 93.7%\n",
      "Test Precision: 94.8%\n",
      "Test Recall: 96.9%\n"
     ]
    }
   ],
   "source": [
    "print(f\"Test Accuracy: {metrics.accuracy_score(y_test, y_pred_tfidf) * 100:.1f}%\")\n",
    "print(f\"Test Precision: {metrics.precision_score(y_test, y_pred_tfidf) * 100:.1f}%\")\n",
    "print(f\"Test Recall: {metrics.recall_score(y_test, y_pred_tfidf) * 100:.1f}%\")"
   ]
  },
  {
   "cell_type": "code",
   "execution_count": 125,
   "id": "36f33de7",
   "metadata": {},
   "outputs": [
    {
     "name": "stdout",
     "output_type": "stream",
     "text": [
      "[[11425  2134]\n",
      " [ 1246 39190]]\n"
     ]
    }
   ],
   "source": [
    "print(metrics.confusion_matrix(y_test, y_pred_tfidf))"
   ]
  },
  {
   "cell_type": "code",
   "execution_count": 126,
   "id": "1ba9f7e8",
   "metadata": {},
   "outputs": [
    {
     "data": {
      "text/plain": [
       "0.9052806624402903"
      ]
     },
     "execution_count": 126,
     "metadata": {},
     "output_type": "execute_result"
    }
   ],
   "source": [
    "y_pred_prob_tfidf = logreg_cv.predict_proba(X_test_tfidf)\n",
    "roc_auc_score(y_test, y_pred_prob_tfidf[:,1])"
   ]
  },
  {
   "cell_type": "code",
   "execution_count": 127,
   "id": "3b7b7220",
   "metadata": {},
   "outputs": [
    {
     "data": {
      "image/png": "[encoded data removed]",
      "text/plain": [
       "<Figure size 432x288 with 1 Axes>"
      ]
     },
     "metadata": {
      "needs_background": "light"
     },
     "output_type": "display_data"
    }
   ],
   "source": [
    "roc_curve_plot(y_test, y_pred_prob_tfidf[:,1])"
   ]
  },
  {
   "cell_type": "markdown",
   "id": "e5df808d",
   "metadata": {},
   "source": [
    "### **2. Support Vector Machine**"
   ]
  },
  {
   "cell_type": "markdown",
   "id": "149cbfee",
   "metadata": {},
   "source": [
    "#### **2.1 SVM with Count Vectorizer**"
   ]
  },
  {
   "cell_type": "code",
   "execution_count": 128,
   "id": "66328321",
   "metadata": {},
   "outputs": [
    {
     "name": "stdout",
     "output_type": "stream",
     "text": [
      "CPU times: user 1min 22s, sys: 882 ms, total: 1min 23s\n",
      "Wall time: 1min 23s\n"
     ]
    },
    {
     "name": "stderr",
     "output_type": "stream",
     "text": [
      "/Users/suyashlakhani/opt/anaconda3/lib/python3.9/site-packages/sklearn/svm/_base.py:985: ConvergenceWarning: Liblinear failed to converge, increase the number of iterations.\n",
      "  warnings.warn(\"Liblinear failed to converge, increase \"\n"
     ]
    }
   ],
   "source": [
    "sv= svm.LinearSVC()\n",
    "%time sv.fit(X_train_cv,y_train)\n",
    "y_pred_cv_svm = sv.predict(X_test_cv)"
   ]
  },
  {
   "cell_type": "code",
   "execution_count": 129,
   "id": "0d125a8d",
   "metadata": {},
   "outputs": [
    {
     "name": "stdout",
     "output_type": "stream",
     "text": [
      "              precision    recall  f1-score   support\n",
      "\n",
      "           0       0.89      0.85      0.87     13559\n",
      "           1       0.95      0.97      0.96     40436\n",
      "\n",
      "    accuracy                           0.94     53995\n",
      "   macro avg       0.92      0.91      0.91     53995\n",
      "weighted avg       0.94      0.94      0.94     53995\n",
      "\n"
     ]
    }
   ],
   "source": [
    "print(classification_report(y_test, y_pred_cv_svm))"
   ]
  },
  {
   "cell_type": "code",
   "execution_count": 130,
   "id": "d83289b1",
   "metadata": {},
   "outputs": [
    {
     "name": "stdout",
     "output_type": "stream",
     "text": [
      "Test Accuracy: 93.7%\n"
     ]
    }
   ],
   "source": [
    "print(f\"Test Accuracy: {metrics.accuracy_score(y_test, y_pred_cv_svm) * 100:.1f}%\")"
   ]
  },
  {
   "cell_type": "code",
   "execution_count": 131,
   "id": "c4d5d5f4",
   "metadata": {},
   "outputs": [
    {
     "name": "stdout",
     "output_type": "stream",
     "text": [
      "[[11489  2070]\n",
      " [ 1356 39080]]\n"
     ]
    }
   ],
   "source": [
    "print(metrics.confusion_matrix(y_test, y_pred_cv_svm))"
   ]
  },
  {
   "cell_type": "code",
   "execution_count": 132,
   "id": "4786d67e",
   "metadata": {},
   "outputs": [
    {
     "data": {
      "text/plain": [
       "0.9068996999743142"
      ]
     },
     "execution_count": 132,
     "metadata": {},
     "output_type": "execute_result"
    }
   ],
   "source": [
    "metrics.roc_auc_score(y_test,y_pred_cv_svm)"
   ]
  },
  {
   "cell_type": "markdown",
   "id": "9202ac5a",
   "metadata": {},
   "source": [
    "#### **2.2 SVM with Tfidf Vectorizer**"
   ]
  },
  {
   "cell_type": "code",
   "execution_count": 133,
   "id": "18384cfb",
   "metadata": {},
   "outputs": [
    {
     "name": "stdout",
     "output_type": "stream",
     "text": [
      "CPU times: user 5.14 s, sys: 364 ms, total: 5.5 s\n",
      "Wall time: 5.54 s\n"
     ]
    }
   ],
   "source": [
    "%time sv.fit(X_train_tfidf, y_train)\n",
    "y_pred_tfidf_svm = sv.predict(X_test_tfidf)"
   ]
  },
  {
   "cell_type": "code",
   "execution_count": 134,
   "id": "06c73391",
   "metadata": {},
   "outputs": [
    {
     "name": "stdout",
     "output_type": "stream",
     "text": [
      "              precision    recall  f1-score   support\n",
      "\n",
      "           0       0.91      0.88      0.90     13559\n",
      "           1       0.96      0.97      0.97     40436\n",
      "\n",
      "    accuracy                           0.95     53995\n",
      "   macro avg       0.93      0.93      0.93     53995\n",
      "weighted avg       0.95      0.95      0.95     53995\n",
      "\n"
     ]
    }
   ],
   "source": [
    "print(classification_report(y_test, y_pred_tfidf_svm))"
   ]
  },
  {
   "cell_type": "code",
   "execution_count": 151,
   "id": "e67e5df9",
   "metadata": {},
   "outputs": [
    {
     "name": "stdout",
     "output_type": "stream",
     "text": [
      "Test Accuracy: 94.8%\n",
      "Test Precision: 96.1%\n",
      "Test Recall: 97.0%\n"
     ]
    }
   ],
   "source": [
    "print(f\"Test Accuracy: {metrics.accuracy_score(y_test, y_pred_tfidf_svm) * 100:.1f}%\")\n",
    "print(f\"Test Precision: {metrics.precision_score(y_test, y_pred_tfidf_svm) * 100:.1f}%\")\n",
    "print(f\"Test Recall: {metrics.recall_score(y_test, y_pred_tfidf_svm) * 100:.1f}%\")"
   ]
  },
  {
   "cell_type": "code",
   "execution_count": 136,
   "id": "0febca5c",
   "metadata": {
    "scrolled": true
   },
   "outputs": [
    {
     "name": "stdout",
     "output_type": "stream",
     "text": [
      "[[11981  1578]\n",
      " [ 1206 39230]]\n"
     ]
    }
   ],
   "source": [
    "print(metrics.confusion_matrix(y_test, y_pred_tfidf_svm))"
   ]
  },
  {
   "cell_type": "code",
   "execution_count": 137,
   "id": "00425128",
   "metadata": {},
   "outputs": [
    {
     "data": {
      "text/plain": [
       "0.9268974137356752"
      ]
     },
     "execution_count": 137,
     "metadata": {},
     "output_type": "execute_result"
    }
   ],
   "source": [
    "metrics.roc_auc_score(y_test,y_pred_tfidf_svm)"
   ]
  },
  {
   "cell_type": "markdown",
   "id": "14d156a5",
   "metadata": {},
   "source": [
    "### **3. Naive Bayes Classifier**"
   ]
  },
  {
   "cell_type": "markdown",
   "id": "165d4f4b",
   "metadata": {},
   "source": [
    "#### **3.1 Naive Bayes on Count Vectorizer**"
   ]
  },
  {
   "cell_type": "code",
   "execution_count": 138,
   "id": "2c652c47",
   "metadata": {},
   "outputs": [
    {
     "name": "stdout",
     "output_type": "stream",
     "text": [
      "CPU times: user 393 ms, sys: 204 ms, total: 597 ms\n",
      "Wall time: 626 ms\n"
     ]
    }
   ],
   "source": [
    "nb = MultinomialNB()\n",
    "%time nb.fit(X_train_cv,y_train)\n",
    "y_pred_cv_nb= nb.predict(X_test_cv)"
   ]
  },
  {
   "cell_type": "code",
   "execution_count": 139,
   "id": "67b8faa7",
   "metadata": {},
   "outputs": [
    {
     "name": "stdout",
     "output_type": "stream",
     "text": [
      "              precision    recall  f1-score   support\n",
      "\n",
      "           0       0.74      0.82      0.78     13559\n",
      "           1       0.94      0.90      0.92     40436\n",
      "\n",
      "    accuracy                           0.88     53995\n",
      "   macro avg       0.84      0.86      0.85     53995\n",
      "weighted avg       0.89      0.88      0.88     53995\n",
      "\n"
     ]
    }
   ],
   "source": [
    "print(classification_report(y_test,y_pred_cv_nb))"
   ]
  },
  {
   "cell_type": "code",
   "execution_count": 140,
   "id": "a8f38ec3",
   "metadata": {},
   "outputs": [
    {
     "name": "stdout",
     "output_type": "stream",
     "text": [
      "Test Accuracy: 88.2%\n"
     ]
    }
   ],
   "source": [
    "print(f\"Test Accuracy: {metrics.accuracy_score(y_test, y_pred_cv_nb) * 100:.1f}%\")"
   ]
  },
  {
   "cell_type": "code",
   "execution_count": 141,
   "id": "ec0a2505",
   "metadata": {},
   "outputs": [
    {
     "name": "stdout",
     "output_type": "stream",
     "text": [
      "[[11132  2427]\n",
      " [ 3940 36496]]\n"
     ]
    }
   ],
   "source": [
    "print(metrics.confusion_matrix(y_test, y_pred_cv_nb))"
   ]
  },
  {
   "cell_type": "code",
   "execution_count": 142,
   "id": "643a9eb1",
   "metadata": {},
   "outputs": [
    {
     "data": {
      "text/plain": [
       "0.8961566345522499"
      ]
     },
     "execution_count": 142,
     "metadata": {},
     "output_type": "execute_result"
    }
   ],
   "source": [
    "y_pred_cv_nb_prob= nb.predict_proba(X_test_cv)\n",
    "roc_auc_score(y_test, y_pred_cv_nb_prob[:,1])"
   ]
  },
  {
   "cell_type": "code",
   "execution_count": 143,
   "id": "c0499e7c",
   "metadata": {},
   "outputs": [
    {
     "data": {
      "image/png": "[encoded data removed]",
      "text/plain": [
       "<Figure size 432x288 with 1 Axes>"
      ]
     },
     "metadata": {
      "needs_background": "light"
     },
     "output_type": "display_data"
    }
   ],
   "source": [
    "roc_curve_plot(y_test, y_pred_cv_nb_prob[:,1])"
   ]
  },
  {
   "cell_type": "markdown",
   "id": "b522f2e2",
   "metadata": {},
   "source": [
    "#### **3.2 Naive Bayes on Tfidf Vectorizer**"
   ]
  },
  {
   "cell_type": "code",
   "execution_count": 144,
   "id": "cee504fc",
   "metadata": {},
   "outputs": [
    {
     "name": "stdout",
     "output_type": "stream",
     "text": [
      "CPU times: user 277 ms, sys: 121 ms, total: 398 ms\n",
      "Wall time: 403 ms\n"
     ]
    }
   ],
   "source": [
    "%time nb.fit(X_train_tfidf,y_train)\n",
    "y_pred_tfidf_nb= nb.predict(X_test_tfidf)"
   ]
  },
  {
   "cell_type": "code",
   "execution_count": 145,
   "id": "d9af2e75",
   "metadata": {},
   "outputs": [
    {
     "name": "stdout",
     "output_type": "stream",
     "text": [
      "              precision    recall  f1-score   support\n",
      "\n",
      "           0       0.95      0.26      0.40     13559\n",
      "           1       0.80      1.00      0.89     40436\n",
      "\n",
      "    accuracy                           0.81     53995\n",
      "   macro avg       0.87      0.63      0.64     53995\n",
      "weighted avg       0.84      0.81      0.77     53995\n",
      "\n"
     ]
    }
   ],
   "source": [
    "print(classification_report(y_test,y_pred_tfidf_nb))"
   ]
  },
  {
   "cell_type": "code",
   "execution_count": 152,
   "id": "31c9adde",
   "metadata": {},
   "outputs": [
    {
     "name": "stdout",
     "output_type": "stream",
     "text": [
      "Test Accuracy: 80.9%\n",
      "Test Precision: 79.9%\n",
      "Test Recall: 99.5%\n"
     ]
    }
   ],
   "source": [
    "print(f\"Test Accuracy: {metrics.accuracy_score(y_test, y_pred_tfidf_nb) * 100:.1f}%\")\n",
    "print(f\"Test Precision: {metrics.precision_score(y_test, y_pred_tfidf_nb) * 100:.1f}%\")\n",
    "print(f\"Test Recall: {metrics.recall_score(y_test, y_pred_tfidf_nb) * 100:.1f}%\")"
   ]
  },
  {
   "cell_type": "code",
   "execution_count": 153,
   "id": "3591e6a4",
   "metadata": {},
   "outputs": [
    {
     "name": "stdout",
     "output_type": "stream",
     "text": [
      "[[ 3467 10092]\n",
      " [  195 40241]]\n"
     ]
    }
   ],
   "source": [
    "print(metrics.confusion_matrix(y_test, y_pred_tfidf_nb))"
   ]
  },
  {
   "cell_type": "code",
   "execution_count": 148,
   "id": "ef7654fc",
   "metadata": {},
   "outputs": [
    {
     "data": {
      "text/plain": [
       "0.6153298587763756"
      ]
     },
     "execution_count": 148,
     "metadata": {},
     "output_type": "execute_result"
    }
   ],
   "source": [
    "y_pred_tfidf_nb_prob= nb.predict_proba(X_test_cv)\n",
    "roc_auc_score(y_test, y_pred_tfidf_nb_prob[:,1])"
   ]
  },
  {
   "cell_type": "code",
   "execution_count": 149,
   "id": "b1a77360",
   "metadata": {
    "scrolled": true
   },
   "outputs": [
    {
     "data": {
      "image/png": "[encoded data removed]",
      "text/plain": [
       "<Figure size 432x288 with 1 Axes>"
      ]
     },
     "metadata": {
      "needs_background": "light"
     },
     "output_type": "display_data"
    }
   ],
   "source": [
    "roc_curve_plot(y_test, y_pred_tfidf_nb_prob[:,1])"
   ]
  },
  {
   "cell_type": "markdown",
   "id": "ab60e418",
   "metadata": {},
   "source": [
    "### **Selection of a particular Text-Preprocessing Technique:** "
   ]
  },
  {
   "cell_type": "markdown",
   "id": "069a3b46",
   "metadata": {},
   "source": [
    "#### **I ran the models with both the preprocessing techniques just to take them as a reference. But I have chosen to go forward with TFIDF Vectorizer because:**\n",
    "#### **1.It is generally faster when fed to the model.**\n",
    "#### **2. It captures the context of the text and also the occurance of a particular word in the text (Both high and low).**"
   ]
  },
  {
   "cell_type": "markdown",
   "id": "181e2efc",
   "metadata": {},
   "source": [
    "### **Selection of Binary Classifiers:**"
   ]
  },
  {
   "cell_type": "markdown",
   "id": "a42fc400",
   "metadata": {},
   "source": [
    "**Summary of Model Performance:**\n",
    "\n",
    "**1. Logistic Regression:**\n",
    "\n",
    "    Test Accuracy: 93.7%\n",
    "    \n",
    "    Test Precision: 94.8%\n",
    "    \n",
    "    Test Recall: 96.9%\n",
    "    \n",
    "    Minority Class Precision : 90%\n",
    "    \n",
    "    Minority Class Recall : 84%\n",
    "    \n",
    "    AUC_ROC_Score : 0.9052\n",
    "    \n",
    "    Time Taken to execute : 71 s"
   ]
  },
  {
   "cell_type": "markdown",
   "id": "648b80ca",
   "metadata": {},
   "source": [
    "**2. Support Vector Machine:**\n",
    "\n",
    "    Test Accuracy: 94.8%\n",
    "    \n",
    "    Test Precision: 96.1%\n",
    "    \n",
    "    Test Recall: 97%\n",
    "    \n",
    "    Minority Class Precision : 91%\n",
    "    \n",
    "    Minority Class Recall : 88%\n",
    "    \n",
    "    AUC_ROC_Score : 0.9268\n",
    "    \n",
    "    Time Taken to execute : 5.54 s"
   ]
  },
  {
   "cell_type": "markdown",
   "id": "518e9cb1",
   "metadata": {},
   "source": [
    "**3. Naive Bayes:**\n",
    "\n",
    "    Test Accuracy: 80.9%\n",
    "    \n",
    "    Test Precision: 79.9%\n",
    "    \n",
    "    Test Recall: 99.5%\n",
    "    \n",
    "    Minority Class Precision : 95%\n",
    "    \n",
    "    Minority Class Recall : 26%\n",
    "    \n",
    "    AUC_ROC_Score : 0.6153\n",
    "    \n",
    "    Time Taken to execute : 403 ms"
   ]
  },
  {
   "cell_type": "markdown",
   "id": "d5fd1c6b",
   "metadata": {},
   "source": [
    "### **We can see from the above comparision that Support Vector Machine Performs the best among the 3 classififers. It performs better in general, performs better for the minority class (Both precision and recall) and also has a good AUC_ROC_score which is a key indictor to check how well the minority class has performed. SVM also takes very little time to execute when compared to logistic regression. Naive Bayes takes the least time but the performance is low.**"
   ]
  },
  {
   "cell_type": "code",
   "execution_count": null,
   "id": "98486f46",
   "metadata": {},
   "outputs": [],
   "source": []
  }
 ],
 "metadata": {
  "kernelspec": {
   "display_name": "Python 3 (ipykernel)",
   "language": "python",
   "name": "python3"
  },
  "language_info": {
   "codemirror_mode": {
    "name": "ipython",
    "version": 3
   },
   "file_extension": ".py",
   "mimetype": "text/x-python",
   "name": "python",
   "nbconvert_exporter": "python",
   "pygments_lexer": "ipython3",
   "version": "3.9.7"
  }
 },
 "nbformat": 4,
 "nbformat_minor": 5
}
